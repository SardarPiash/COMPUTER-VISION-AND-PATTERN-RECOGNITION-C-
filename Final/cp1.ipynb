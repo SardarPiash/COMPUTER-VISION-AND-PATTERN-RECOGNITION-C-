{
  "nbformat": 4,
  "nbformat_minor": 0,
  "metadata": {
    "colab": {
      "provenance": []
    },
    "kernelspec": {
      "name": "python3",
      "display_name": "Python 3"
    },
    "language_info": {
      "name": "python"
    }
  },
  "cells": [
    {
      "cell_type": "markdown",
      "source": [
        "At first we need to import the libraries"
      ],
      "metadata": {
        "id": "Y0gnNBdk1s3p"
      }
    },
    {
      "cell_type": "code",
      "execution_count": 1,
      "metadata": {
        "id": "Kge7hy3J1lo2"
      },
      "outputs": [],
      "source": [
        "import tensorflow as tf\n",
        "from tensorflow.keras import layers, models\n",
        "from tensorflow.keras.datasets import mnist\n",
        "from tensorflow.keras.utils import to_categorical\n",
        "import matplotlib.pyplot as plt"
      ]
    },
    {
      "cell_type": "markdown",
      "source": [
        "After normalizing the pixel values to be between 0 and 1, we will load the MNIST dataset and divide the data into training and testing sets:"
      ],
      "metadata": {
        "id": "kuRPrtyf175n"
      }
    },
    {
      "cell_type": "code",
      "source": [
        "(train_images, train_labels), (test_images, test_labels) = mnist.load_data()\n",
        "\n",
        "train_images = train_images.reshape((60000, 28, 28, 1))\n",
        "train_images = train_images.astype('float32') / 255\n",
        "\n",
        "test_images = test_images.reshape((10000, 28, 28, 1))\n",
        "test_images = test_images.astype('float32') / 255\n",
        "\n",
        "train_labels = to_categorical(train_labels)\n",
        "test_labels = to_categorical(test_labels)\n"
      ],
      "metadata": {
        "colab": {
          "base_uri": "https://localhost:8080/"
        },
        "id": "V7XlrVFp2LwF",
        "outputId": "233388a2-8406-4d7e-a8f7-2c882581b5c1"
      },
      "execution_count": 2,
      "outputs": [
        {
          "output_type": "stream",
          "name": "stdout",
          "text": [
            "Downloading data from https://storage.googleapis.com/tensorflow/tf-keras-datasets/mnist.npz\n",
            "11490434/11490434 [==============================] - 0s 0us/step\n"
          ]
        }
      ]
    },
    {
      "cell_type": "markdown",
      "source": [
        "Now we can define our model and compile it with the first optimizer, SGD:"
      ],
      "metadata": {
        "id": "Ml5cwt3e3L8R"
      }
    },
    {
      "cell_type": "code",
      "source": [
        "model = models.Sequential()\n",
        "\n",
        "model.add(layers.Conv2D(32, (3, 3), activation='relu', input_shape=(28, 28, 1)))\n",
        "model.add(layers.MaxPooling2D((2, 2)))\n",
        "\n",
        "model.add(layers.Conv2D(64, (3, 3), activation='relu'))\n",
        "model.add(layers.MaxPooling2D((2, 2)))\n",
        "\n",
        "model.add(layers.Flatten())\n",
        "model.add(layers.Dense(128, activation='relu'))\n",
        "model.add(layers.Dense(10, activation='softmax'))\n",
        "\n",
        "sgd = tf.keras.optimizers.SGD(learning_rate=0.01)\n",
        "\n",
        "model.compile(optimizer=sgd,\n",
        "              loss='categorical_crossentropy',\n",
        "              metrics=['accuracy'])\n"
      ],
      "metadata": {
        "id": "dJXBibLs3Uvq"
      },
      "execution_count": 3,
      "outputs": []
    },
    {
      "cell_type": "markdown",
      "source": [
        "Let's train the model for 5 epochs:"
      ],
      "metadata": {
        "id": "pPB3pDvS3eY4"
      }
    },
    {
      "cell_type": "code",
      "source": [
        "history_sgd = model.fit(train_images, train_labels, epochs=5, batch_size=128, validation_data=(test_images, test_labels))\n"
      ],
      "metadata": {
        "colab": {
          "base_uri": "https://localhost:8080/"
        },
        "id": "hyoR-Mxv3gA2",
        "outputId": "db17eb32-0c82-4f63-b53a-16b16e4fea53"
      },
      "execution_count": 4,
      "outputs": [
        {
          "output_type": "stream",
          "name": "stdout",
          "text": [
            "Epoch 1/5\n",
            "469/469 [==============================] - 61s 129ms/step - loss: 1.1304 - accuracy: 0.7047 - val_loss: 0.3642 - val_accuracy: 0.8954\n",
            "Epoch 2/5\n",
            "469/469 [==============================] - 57s 122ms/step - loss: 0.3096 - accuracy: 0.9081 - val_loss: 0.2352 - val_accuracy: 0.9310\n",
            "Epoch 3/5\n",
            "469/469 [==============================] - 59s 127ms/step - loss: 0.2273 - accuracy: 0.9315 - val_loss: 0.1794 - val_accuracy: 0.9487\n",
            "Epoch 4/5\n",
            "469/469 [==============================] - 56s 120ms/step - loss: 0.1781 - accuracy: 0.9470 - val_loss: 0.1527 - val_accuracy: 0.9550\n",
            "Epoch 5/5\n",
            "469/469 [==============================] - 55s 118ms/step - loss: 0.1482 - accuracy: 0.9564 - val_loss: 0.1351 - val_accuracy: 0.9617\n"
          ]
        }
      ]
    },
    {
      "cell_type": "markdown",
      "source": [
        "Now we can do the same with ADAM and RMSProp, the other two optimizers:"
      ],
      "metadata": {
        "id": "4IT54OJl46pb"
      }
    },
    {
      "cell_type": "code",
      "source": [
        "adam = tf.keras.optimizers.Adam(learning_rate=0.001)\n",
        "rmsprop = tf.keras.optimizers.RMSprop(learning_rate=0.001)\n",
        "\n",
        "model.compile(optimizer=adam,\n",
        "              loss='categorical_crossentropy',\n",
        "              metrics=['accuracy'])\n",
        "\n",
        "history_adam = model.fit(train_images, train_labels, epochs=5, batch_size=128, validation_data=(test_images, test_labels))\n",
        "\n",
        "model.compile(optimizer=rmsprop,\n",
        "              loss='categorical_crossentropy',\n",
        "              metrics=['accuracy'])\n",
        "\n",
        "history_rmsprop = model.fit(train_images, train_labels, epochs=5, batch_size=128, validation_data=(test_images, test_labels))"
      ],
      "metadata": {
        "colab": {
          "base_uri": "https://localhost:8080/"
        },
        "id": "GHKpDaHP48R8",
        "outputId": "a0039d0d-9a4e-416f-f12e-21a32fe508c6"
      },
      "execution_count": 5,
      "outputs": [
        {
          "output_type": "stream",
          "name": "stdout",
          "text": [
            "Epoch 1/5\n",
            "469/469 [==============================] - 61s 128ms/step - loss: 0.1221 - accuracy: 0.9632 - val_loss: 0.0563 - val_accuracy: 0.9810\n",
            "Epoch 2/5\n",
            "469/469 [==============================] - 57s 122ms/step - loss: 0.0526 - accuracy: 0.9840 - val_loss: 0.0381 - val_accuracy: 0.9876\n",
            "Epoch 3/5\n",
            "469/469 [==============================] - 58s 123ms/step - loss: 0.0353 - accuracy: 0.9889 - val_loss: 0.0378 - val_accuracy: 0.9875\n",
            "Epoch 4/5\n",
            "469/469 [==============================] - 56s 120ms/step - loss: 0.0269 - accuracy: 0.9915 - val_loss: 0.0358 - val_accuracy: 0.9885\n",
            "Epoch 5/5\n",
            "469/469 [==============================] - 57s 123ms/step - loss: 0.0197 - accuracy: 0.9940 - val_loss: 0.0351 - val_accuracy: 0.9888\n",
            "Epoch 1/5\n",
            "469/469 [==============================] - 58s 122ms/step - loss: 0.0185 - accuracy: 0.9941 - val_loss: 0.0371 - val_accuracy: 0.9885\n",
            "Epoch 2/5\n",
            "469/469 [==============================] - 58s 124ms/step - loss: 0.0140 - accuracy: 0.9955 - val_loss: 0.0311 - val_accuracy: 0.9909\n",
            "Epoch 3/5\n",
            "469/469 [==============================] - 58s 124ms/step - loss: 0.0114 - accuracy: 0.9964 - val_loss: 0.0308 - val_accuracy: 0.9909\n",
            "Epoch 4/5\n",
            "469/469 [==============================] - 57s 121ms/step - loss: 0.0087 - accuracy: 0.9972 - val_loss: 0.0463 - val_accuracy: 0.9882\n",
            "Epoch 5/5\n",
            "469/469 [==============================] - 57s 121ms/step - loss: 0.0071 - accuracy: 0.9977 - val_loss: 0.0307 - val_accuracy: 0.9912\n"
          ]
        }
      ]
    },
    {
      "cell_type": "markdown",
      "source": [
        "Finally, let's compare the results:"
      ],
      "metadata": {
        "id": "TPdmxF4y7jLd"
      }
    },
    {
      "cell_type": "code",
      "source": [
        "plt.plot(history_sgd.history['val_accuracy'], label='SGD')\n",
        "plt.plot(history_adam.history['val_accuracy'], label='Adam')\n",
        "plt.plot(history_rmsprop.history['val_accuracy'], label='RMSProp')\n",
        "plt.title"
      ],
      "metadata": {
        "colab": {
          "base_uri": "https://localhost:8080/",
          "height": 282
        },
        "id": "aIxq5KNd7laM",
        "outputId": "84f3c573-d501-4d0d-be8d-6f0f646faed7"
      },
      "execution_count": 6,
      "outputs": [
        {
          "output_type": "execute_result",
          "data": {
            "text/plain": [
              "<function matplotlib.pyplot.title(label, fontdict=None, loc=None, pad=None, *, y=None, **kwargs)>"
            ]
          },
          "metadata": {},
          "execution_count": 6
        },
        {
          "output_type": "display_data",
          "data": {
            "text/plain": [
              "<Figure size 432x288 with 1 Axes>"
            ],
            "image/png": "[encoded data removed]"
          },
          "metadata": {
            "needs_background": "light"
          }
        }
      ]
    }
  ]
}